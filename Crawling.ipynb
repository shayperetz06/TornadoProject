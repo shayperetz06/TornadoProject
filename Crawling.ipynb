{
 "cells": [
  {
   "cell_type": "markdown",
   "id": "638d1863",
   "metadata": {},
   "source": [
    "# Part 1: Data Acquisition"
   ]
  },
  {
   "cell_type": "markdown",
   "id": "43938270",
   "metadata": {},
   "source": [
    "At this part, I will acquire data by using the crawling method.\n",
    "I will crawl the **National Centers for Environmenal Information** site - \"https://www.ncdc.noaa.gov/stormevents/choosedates.jsp?statefips=-999,ALL\""
   ]
  },
  {
   "cell_type": "markdown",
   "id": "762233b4",
   "metadata": {},
   "source": [
    "Import necessary packages"
   ]
  },
  {
   "cell_type": "code",
   "execution_count": null,
   "id": "3352daf6",
   "metadata": {},
   "outputs": [],
   "source": [
    "import requests\n",
    "from bs4 import BeautifulSoup\n",
    "import pandas as pd\n",
    "from time import sleep"
   ]
  },
  {
   "cell_type": "code",
   "execution_count": null,
   "id": "4b89c272",
   "metadata": {},
   "outputs": [],
   "source": [
    "# This function create and return a soup object for a given html file.    \n",
    "def getHtml(url):\n",
    "    html = requests.get(url)\n",
    "    soup = BeautifulSoup(html.content, \"html.parser\")\n",
    "    return soup.prettify()"
   ]
  },
  {
   "cell_type": "code",
   "execution_count": null,
   "id": "e9725ca1",
   "metadata": {},
   "outputs": [],
   "source": [
    "# This function return the table in html file.\n",
    "def getTable(html, numOfTable):\n",
    "    try:\n",
    "        table = html.find_all(lambda tag: tag.name == 'table')[numOfTable]\n",
    "    except:\n",
    "        print(\"An exception occurred: \" + table)\n",
    "    return table"
   ]
  },
  {
   "cell_type": "code",
   "execution_count": null,
   "id": "144b83be",
   "metadata": {},
   "outputs": [],
   "source": [
    "# This function return all rows in the table\n",
    "def getRows(table):\n",
    "    rows = table.find_all('tr')\n",
    "    return rows"
   ]
  },
  {
   "cell_type": "code",
   "execution_count": null,
   "id": "fc00c385",
   "metadata": {},
   "outputs": [],
   "source": [
    "# This function return all columns in the table\n",
    "def getCell(rows):\n",
    "    cell = list()\n",
    "    for row in rows:\n",
    "        cells = row.find_all('td')\n",
    "        if len(cells) == 2:\n",
    "            cell.append(cells[0].get_text())\n",
    "            cell.append(cells[1].get_text())\n",
    "    return cell"
   ]
  },
  {
   "cell_type": "code",
   "execution_count": null,
   "id": "5ac0a032",
   "metadata": {},
   "outputs": [],
   "source": [
    "# Thid function get link and  completion to whole address Additionally, remove extra Spaces.\n",
    "def fixUrls(links):\n",
    "    url_list = list()\n",
    "    for link in links:\n",
    "        url = \"https://www.ncdc.noaa.gov/stormevents/\"+link\n",
    "        url_list.append(url.strip())\n",
    "    return url_list"
   ]
  },
  {
   "cell_type": "markdown",
   "id": "0dae7b42",
   "metadata": {},
   "source": [
    "In the site **National Centers for Environmenal Information** the Tornado storms are divided into time periods, and for each time period we have url address (main_url) with different ID, and for each ID we have html file that contain table with url addrresses (secondry_url) that represent the all Tornado storms in this time period."
   ]
  },
  {
   "cell_type": "code",
   "execution_count": null,
   "id": "8aee16ac",
   "metadata": {},
   "outputs": [],
   "source": [
    "# This function get main url of one page and return all the url in this page. \n",
    "def getAllUrl(main_url):\n",
    "    html = requests.get(main_url)\n",
    "    soup = BeautifulSoup(html.content, \"html.parser\")\n",
    "    main_table = getTable(soup, 1)\n",
    "    data = main_table.find_all(lambda tag: tag.name == \"a\")\n",
    "    links = list()\n",
    "    for item in data:\n",
    "        if str(item.get('href')) == \"#\":\n",
    "            continue\n",
    "        links.append(str(item.get('href')))\n",
    "    url_list = fixUrls(links)\n",
    "    return url_list"
   ]
  },
  {
   "cell_type": "code",
   "execution_count": null,
   "id": "06d4e7b1",
   "metadata": {},
   "outputs": [],
   "source": [
    "# This function create list of the years that i want to based on (2010-2022)\n",
    "def getYearsList(yearsList, startYear, endYear):\n",
    "    years = range(startYear, endYear)\n",
    "    for year in years:\n",
    "        yearsList.append(year)\n",
    "    return yearsList"
   ]
  },
  {
   "cell_type": "code",
   "execution_count": null,
   "id": "5a024ad5",
   "metadata": {},
   "outputs": [],
   "source": [
    "# This function create list of the months (1-12)\n",
    "def getMonthsList(monthsList, startMonth, endMonth):\n",
    "    months = range(startMonth, endMonth)\n",
    "    for month in months:\n",
    "        monthsList.append(month)\n",
    "    return monthsList"
   ]
  },
  {
   "cell_type": "code",
   "execution_count": null,
   "id": "2fc7652c",
   "metadata": {},
   "outputs": [],
   "source": [
    "# This function return the list of main urls between 2010 to 2021\n",
    "def getMainUrlBetween2010To2021(yearsList, monthsList):\n",
    "    list_url = list()\n",
    "    beginDay = endDay = 1\n",
    "    for year in yearsList:\n",
    "        beginYear = endYear = year\n",
    "        for month in monthsList:\n",
    "            beginMonth = month\n",
    "            endMonth = month + 1\n",
    "            if beginMonth < 9:\n",
    "                url_by_dates = \"https://www.ncdc.noaa.gov/stormevents/listevents.jsp?eventType=%28C%29+Tornado&beginDate_mm=0\" + str(beginMonth) + \"&beginDate_dd=0\" + str(beginDay) + \"&beginDate_yyyy=\" + str(beginYear) + \"&endDate_mm=0\" + str(endMonth) + \"&endDate_dd=0\" + str(endDay) + \"&endDate_yyyy=\" + str(endYear) + \"&hailfilter=0.00&tornfilter=0&windfilter=000&sort=DT&submitbutton=Search&statefips=-999%2CALL\"\n",
    "                list_url.append(url_by_dates)\n",
    "            if beginMonth == 9:\n",
    "                url_by_dates = \"https://www.ncdc.noaa.gov/stormevents/listevents.jsp?eventType=%28C%29+Tornado&beginDate_mm=0\" + str(beginMonth) + \"&beginDate_dd=0\" + str(beginDay) + \"&beginDate_yyyy=\" + str(beginYear) + \"&endDate_mm=\" + str(endMonth) + \"&endDate_dd=0\" + str(endDay) + \"&endDate_yyyy=\" + str(endYear) + \"&hailfilter=0.00&tornfilter=0&windfilter=000&sort=DT&submitbutton=Search&statefips=-999%2CALL\"\n",
    "                list_url.append(url_by_dates)\n",
    "            if beginMonth > 9:\n",
    "                url_by_dates = \"https://www.ncdc.noaa.gov/stormevents/listevents.jsp?eventType=%28C%29+Tornado&beginDate_mm=\" + str(beginMonth) + \"&beginDate_dd=0\" + str(beginDay) + \"&beginDate_yyyy=\" + str(beginYear) + \"&endDate_mm=\" + str(endMonth) + \"&endDate_dd=0\" + str(endDay) + \"&endDate_yyyy=\" + str(endYear) + \"&hailfilter=0.00&tornfilter=0&windfilter=000&sort=DT&submitbutton=Search&statefips=-999%2CALL\"\n",
    "                list_url.append(url_by_dates)\n",
    "    return (list_url)"
   ]
  },
  {
   "cell_type": "code",
   "execution_count": null,
   "id": "053a6e59",
   "metadata": {},
   "outputs": [],
   "source": [
    "# This function return the list of main urls in 2022\n",
    "def getMainUrlIn2022(yearsList, monthsList):\n",
    "    list_url = list()\n",
    "    beginDay = endDay = 1\n",
    "    for year in yearsList:\n",
    "        beginYear = endYear = year\n",
    "        for month in monthsList:\n",
    "            beginMonth = month\n",
    "            endMonth = month + 1\n",
    "            url_by_dates = \"https://www.ncdc.noaa.gov/stormevents/listevents.jsp?eventType=%28C%29+Tornado&beginDate_mm=0\" + str(beginMonth) + \"&beginDate_dd=0\" + str(beginDay) + \"&beginDate_yyyy=\" + str(beginYear) + \"&endDate_mm=0\" + str(endMonth) + \"&endDate_dd=0\" + str(endDay) + \"&endDate_yyyy=\" + str(endYear) + \"&hailfilter=0.00&tornfilter=0&windfilter=000&sort=DT&submitbutton=Search&statefips=-999%2CALL\"\n",
    "            list_url.append(url_by_dates)\n",
    "    return list_url\n"
   ]
  },
  {
   "cell_type": "code",
   "execution_count": null,
   "id": "5e78748a",
   "metadata": {},
   "outputs": [],
   "source": [
    "# This function create list that contain all secondry urls between 2010 to 2022\n",
    "def getSecondaryUrls2010to2022(yearsList, monthsList, yearsList2022, monthsList2022):\n",
    "    mainUrls = list()\n",
    "    secondaryUrls = list()\n",
    "    mainUrls = getMainUrlBetween2010To2021(yearsList, monthsList)\n",
    "    mainUrls.extend(getMainUrlIn2022(yearsList2022, monthsList2022))\n",
    "    for url in mainUrls:\n",
    "        secondaryUrls.extend(getAllUrl(url))\n",
    "    return secondaryUrls"
   ]
  },
  {
   "cell_type": "code",
   "execution_count": null,
   "id": "90328958",
   "metadata": {},
   "outputs": [],
   "source": [
    "# This function return list with data on torndo storms - 2010-2022\n",
    "def getData(listOfCells, nameOfcells):\n",
    "    dataList = list()\n",
    "    lenNameOfCells = len(nameOfcells)\n",
    "    lenListOfCells = len(listOfCells)\n",
    "    for i in range(lenNameOfCells):\n",
    "        for j in range(0, lenListOfCells, 2):\n",
    "            if listOfCells[j] == nameOfcells[i]:\n",
    "               dataList.append(listOfCells[j+1])\n",
    "    dataList = addNaN(dataList, listOfCells, lenNameOfCells, nameOfcells)\n",
    "    return dataList"
   ]
  },
  {
   "cell_type": "markdown",
   "id": "830eb7d3",
   "metadata": {},
   "source": [
    "In the site we have different tables in the part of torndo storms, so to avoid incompatibility I put NaN"
   ]
  },
  {
   "cell_type": "code",
   "execution_count": null,
   "id": "ff2e9c3a",
   "metadata": {},
   "outputs": [],
   "source": [
    "# This function add NaN in missing places\n",
    "def addNaN(dataList, listOfCells, lenNameOfCells, nameOfcells):\n",
    "    for j in range(lenNameOfCells):\n",
    "        b = nameOfcells[j]\n",
    "        if b not in listOfCells:\n",
    "            dataList.insert(j, np.nan)\n",
    "    return dataList"
   ]
  },
  {
   "cell_type": "code",
   "execution_count": null,
   "id": "2d886aa5",
   "metadata": {},
   "outputs": [],
   "source": [
    "# This function create the dataframe and load to csv\n",
    "def createDataFrame(secondaryUrls, nameOfcells):\n",
    "    dataList = list()\n",
    "    listOfCells = list()\n",
    "    scale = list()\n",
    "    length = list()\n",
    "    width = list()\n",
    "    state = list()\n",
    "    beginDate = list()\n",
    "    beginLatLon = list()\n",
    "    deaths = list()\n",
    "    numOfTable = 0\n",
    "    for url in secondaryUrls:\n",
    "        print(url)\n",
    "        i = 0\n",
    "        try:\n",
    "            html = requests.get(url)\n",
    "        except:\n",
    "            print(\"An exception occurred: \" + url)\n",
    "        sleep(1)\n",
    "        soup = BeautifulSoup(html.content, \"html.parser\")\n",
    "        table = getTable(soup, numOfTable)\n",
    "        rows = getRows(table)\n",
    "        listOfCells = getCell(rows)\n",
    "        dataList = getData(listOfCells, nameOfcells)\n",
    "        scale.insert(i, dataList[0])\n",
    "        length.insert(i, dataList[1])\n",
    "        width.insert(i, dataList[2])\n",
    "        state.insert(i, dataList[3])\n",
    "        beginDate.insert(i, dataList[4])\n",
    "        beginLatLon.insert(i, dataList[5])\n",
    "        deaths.insert(i, dataList[6])\n",
    "        i = i + 1\n",
    "\n",
    "    df = pd.DataFrame({'Scale': scale, 'Length': length, 'Width': width, 'Country': state, 'Begin Date': beginDate, 'Begin Lat/Lon': beginLatLon, 'Deaths Direct/Indirect': deaths})\n",
    "    df.to_csv('TornadoTable.csv', mode='a', index=False, header=True)"
   ]
  },
  {
   "cell_type": "markdown",
   "id": "11359659",
   "metadata": {},
   "source": [
    "# Main"
   ]
  },
  {
   "cell_type": "code",
   "execution_count": null,
   "id": "8d5f2932",
   "metadata": {},
   "outputs": [],
   "source": [
    " nameOfCells = ['-- Scale', '-- Length', '-- Width', 'State', 'Begin Date', 'Begin Lat/Lon', 'Deaths Direct/Indirect']\n",
    " monthsList = list()z\n",
    " yearsList = list()\n",
    " secondaryUrls = list()\n",
    " yearsList = getYearsList(yearsList, 2010, 2022)\n",
    " monthsList = getMonthsList(monthsList, 1, 12)\n",
    " yearsList2022 = [2022]\n",
    " monthsList2022 = [1, 2, 3, 4, 5]\n",
    " secondaryUrls = getSecondaryUrls2010to2022(yearsList, monthsList, yearsList2022, monthsList2022)\n",
    " createDataFrame(secondaryUrls, nameOfCells)"
   ]
  }
 ],
 "metadata": {
  "kernelspec": {
   "display_name": "Python 3 (ipykernel)",
   "language": "python",
   "name": "python3"
  },
  "language_info": {
   "codemirror_mode": {
    "name": "ipython",
    "version": 3
   },
   "file_extension": ".py",
   "mimetype": "text/x-python",
   "name": "python",
   "nbconvert_exporter": "python",
   "pygments_lexer": "ipython3",
   "version": "3.9.12"
  }
 },
 "nbformat": 4,
 "nbformat_minor": 5
}
