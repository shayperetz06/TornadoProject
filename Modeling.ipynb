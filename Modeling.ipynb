{
 "cells": [
  {
   "cell_type": "markdown",
   "id": "c95c9d78",
   "metadata": {},
   "source": [
    "# Part 4: Machine Learning\n",
    "In this part I will use machine learning to verify my research.\n",
    "I have chosen in Supervised Learning.\n",
    "My goal is to predict the scale of tornado storms.\n",
    "\n"
   ]
  },
  {
   "cell_type": "markdown",
   "id": "d4225a18",
   "metadata": {},
   "source": [
    "Import necessary packages"
   ]
  },
  {
   "cell_type": "code",
   "execution_count": 1,
   "id": "be5a6216",
   "metadata": {},
   "outputs": [],
   "source": [
    "from sklearn.neighbors import KNeighborsClassifier\n",
    "from sklearn import tree\n",
    "from sklearn.tree import DecisionTreeClassifier\n",
    "from sklearn.ensemble import RandomForestClassifier\n",
    "import pandas as pd\n",
    "import sklearn\n",
    "from sklearn.model_selection import train_test_split\n",
    "from sklearn import linear_model, metrics, preprocessing\n",
    "from sklearn.preprocessing import StandardScaler, MinMaxScaler\n",
    "from sklearn.linear_model import LogisticRegression, LinearRegression\n",
    "from sklearn.metrics import r2_score, accuracy_score, classification_report\n",
    "from sklearn.metrics import make_scorer"
   ]
  },
  {
   "cell_type": "markdown",
   "id": "1316a7b4",
   "metadata": {},
   "source": [
    "First of all, I need to convert categorial values to numeric values."
   ]
  },
  {
   "cell_type": "code",
   "execution_count": 2,
   "id": "8f27c148",
   "metadata": {},
   "outputs": [],
   "source": [
    "# This function convert str values of country column to numeric values\n",
    "def convertCountryToNumber(df):\n",
    "    list_of_country = df['Country'].unique().tolist()\n",
    "    a_list = list(range(0, len(list_of_country)))\n",
    "    dictionry = dict(zip(list_of_country, range(len(a_list))))\n",
    "    df.replace({'Country': dictionry }, inplace=True)"
   ]
  },
  {
   "cell_type": "code",
   "execution_count": 3,
   "id": "f2acc4e0",
   "metadata": {
    "scrolled": true
   },
   "outputs": [
    {
     "name": "stdout",
     "output_type": "stream",
     "text": [
      "The df after convert categorical values to numeric values\n"
     ]
    },
    {
     "data": {
      "text/html": [
       "<div>\n",
       "<style scoped>\n",
       "    .dataframe tbody tr th:only-of-type {\n",
       "        vertical-align: middle;\n",
       "    }\n",
       "\n",
       "    .dataframe tbody tr th {\n",
       "        vertical-align: top;\n",
       "    }\n",
       "\n",
       "    .dataframe thead th {\n",
       "        text-align: right;\n",
       "    }\n",
       "</style>\n",
       "<table border=\"1\" class=\"dataframe\">\n",
       "  <thead>\n",
       "    <tr style=\"text-align: right;\">\n",
       "      <th></th>\n",
       "      <th>Scale (EF)</th>\n",
       "      <th>Years</th>\n",
       "      <th>Length (KM)</th>\n",
       "      <th>Width (KM)</th>\n",
       "      <th>Country</th>\n",
       "      <th>Latitude</th>\n",
       "      <th>Longtitude</th>\n",
       "      <th>Deaths</th>\n",
       "    </tr>\n",
       "  </thead>\n",
       "  <tbody>\n",
       "    <tr>\n",
       "      <th>0</th>\n",
       "      <td>1</td>\n",
       "      <td>2022</td>\n",
       "      <td>3.235</td>\n",
       "      <td>0.091</td>\n",
       "      <td>0</td>\n",
       "      <td>40.3790</td>\n",
       "      <td>-75.2266</td>\n",
       "      <td>0</td>\n",
       "    </tr>\n",
       "    <tr>\n",
       "      <th>1</th>\n",
       "      <td>0</td>\n",
       "      <td>2022</td>\n",
       "      <td>0.209</td>\n",
       "      <td>0.046</td>\n",
       "      <td>1</td>\n",
       "      <td>38.9196</td>\n",
       "      <td>-77.2259</td>\n",
       "      <td>0</td>\n",
       "    </tr>\n",
       "    <tr>\n",
       "      <th>2</th>\n",
       "      <td>0</td>\n",
       "      <td>2022</td>\n",
       "      <td>0.080</td>\n",
       "      <td>0.027</td>\n",
       "      <td>1</td>\n",
       "      <td>38.8653</td>\n",
       "      <td>-77.4579</td>\n",
       "      <td>0</td>\n",
       "    </tr>\n",
       "    <tr>\n",
       "      <th>3</th>\n",
       "      <td>1</td>\n",
       "      <td>2022</td>\n",
       "      <td>14.709</td>\n",
       "      <td>0.457</td>\n",
       "      <td>0</td>\n",
       "      <td>41.1600</td>\n",
       "      <td>-76.7300</td>\n",
       "      <td>1</td>\n",
       "    </tr>\n",
       "    <tr>\n",
       "      <th>4</th>\n",
       "      <td>1</td>\n",
       "      <td>2022</td>\n",
       "      <td>0.354</td>\n",
       "      <td>0.091</td>\n",
       "      <td>2</td>\n",
       "      <td>35.8672</td>\n",
       "      <td>-78.8372</td>\n",
       "      <td>0</td>\n",
       "    </tr>\n",
       "    <tr>\n",
       "      <th>...</th>\n",
       "      <td>...</td>\n",
       "      <td>...</td>\n",
       "      <td>...</td>\n",
       "      <td>...</td>\n",
       "      <td>...</td>\n",
       "      <td>...</td>\n",
       "      <td>...</td>\n",
       "      <td>...</td>\n",
       "    </tr>\n",
       "    <tr>\n",
       "      <th>14785</th>\n",
       "      <td>1</td>\n",
       "      <td>2010</td>\n",
       "      <td>1.271</td>\n",
       "      <td>0.137</td>\n",
       "      <td>10</td>\n",
       "      <td>31.5095</td>\n",
       "      <td>-93.9232</td>\n",
       "      <td>0</td>\n",
       "    </tr>\n",
       "    <tr>\n",
       "      <th>14786</th>\n",
       "      <td>0</td>\n",
       "      <td>2010</td>\n",
       "      <td>0.257</td>\n",
       "      <td>0.023</td>\n",
       "      <td>6</td>\n",
       "      <td>30.8150</td>\n",
       "      <td>-92.0455</td>\n",
       "      <td>0</td>\n",
       "    </tr>\n",
       "    <tr>\n",
       "      <th>14787</th>\n",
       "      <td>1</td>\n",
       "      <td>2010</td>\n",
       "      <td>7.435</td>\n",
       "      <td>0.023</td>\n",
       "      <td>29</td>\n",
       "      <td>33.7160</td>\n",
       "      <td>-118.1250</td>\n",
       "      <td>0</td>\n",
       "    </tr>\n",
       "    <tr>\n",
       "      <th>14788</th>\n",
       "      <td>0</td>\n",
       "      <td>2010</td>\n",
       "      <td>0.225</td>\n",
       "      <td>0.009</td>\n",
       "      <td>29</td>\n",
       "      <td>34.4248</td>\n",
       "      <td>-119.8770</td>\n",
       "      <td>0</td>\n",
       "    </tr>\n",
       "    <tr>\n",
       "      <th>14789</th>\n",
       "      <td>0</td>\n",
       "      <td>2010</td>\n",
       "      <td>0.853</td>\n",
       "      <td>0.014</td>\n",
       "      <td>29</td>\n",
       "      <td>36.7300</td>\n",
       "      <td>-119.8600</td>\n",
       "      <td>0</td>\n",
       "    </tr>\n",
       "  </tbody>\n",
       "</table>\n",
       "<p>14790 rows × 8 columns</p>\n",
       "</div>"
      ],
      "text/plain": [
       "       Scale (EF)  Years  Length (KM)  Width (KM)  Country  Latitude  \\\n",
       "0               1   2022        3.235       0.091        0   40.3790   \n",
       "1               0   2022        0.209       0.046        1   38.9196   \n",
       "2               0   2022        0.080       0.027        1   38.8653   \n",
       "3               1   2022       14.709       0.457        0   41.1600   \n",
       "4               1   2022        0.354       0.091        2   35.8672   \n",
       "...           ...    ...          ...         ...      ...       ...   \n",
       "14785           1   2010        1.271       0.137       10   31.5095   \n",
       "14786           0   2010        0.257       0.023        6   30.8150   \n",
       "14787           1   2010        7.435       0.023       29   33.7160   \n",
       "14788           0   2010        0.225       0.009       29   34.4248   \n",
       "14789           0   2010        0.853       0.014       29   36.7300   \n",
       "\n",
       "       Longtitude  Deaths  \n",
       "0        -75.2266       0  \n",
       "1        -77.2259       0  \n",
       "2        -77.4579       0  \n",
       "3        -76.7300       1  \n",
       "4        -78.8372       0  \n",
       "...           ...     ...  \n",
       "14785    -93.9232       0  \n",
       "14786    -92.0455       0  \n",
       "14787   -118.1250       0  \n",
       "14788   -119.8770       0  \n",
       "14789   -119.8600       0  \n",
       "\n",
       "[14790 rows x 8 columns]"
      ]
     },
     "execution_count": 3,
     "metadata": {},
     "output_type": "execute_result"
    }
   ],
   "source": [
    "df = pd.read_csv(\"TornadoTableAfterDataCleaning.csv\")\n",
    "convertCountryToNumber(df)\n",
    "df.to_csv('new.csv', index=False, header=True)\n",
    "df = pd.read_csv(\"new.csv\")\n",
    "print(\"The df after convert categorical values to numeric values\")\n",
    "df"
   ]
  },
  {
   "cell_type": "markdown",
   "id": "91741fd8",
   "metadata": {},
   "source": [
    "Before the machine learning algorithm, I need to choose the Training_Features and the target_column.\n",
    "In my case, the Training_Features is all dataframe except for scale (EF) column and the target_column is the scale (EF) column."
   ]
  },
  {
   "cell_type": "code",
   "execution_count": 4,
   "id": "cf2474a7",
   "metadata": {},
   "outputs": [],
   "source": [
    "# This function return X that represent Training_Features and y that represent target_column\n",
    "def load_dataset(df, target_column):\n",
    "    Training_Features = df.columns[df.columns != target_column]\n",
    "    X = df[Training_Features]\n",
    "    y = df[target_column]\n",
    "    return X, y"
   ]
  },
  {
   "cell_type": "markdown",
   "id": "ee936d1c",
   "metadata": {},
   "source": [
    "After I get the values X and y I need split the data to X_train, X_test, y_train, y_test "
   ]
  },
  {
   "cell_type": "code",
   "execution_count": 5,
   "id": "ab869f27",
   "metadata": {},
   "outputs": [],
   "source": [
    "# This function get X and y and return X_train, X_test, y_train, y_test after split\n",
    "def split_to_train_and_test(X, y, test_ratio, rand_state):\n",
    "    X_train, X_test, y_train, y_test = train_test_split(X, y, test_size=test_ratio, random_state=rand_state)\n",
    "    return X_train, X_test, y_train, y_test"
   ]
  },
  {
   "cell_type": "code",
   "execution_count": 6,
   "id": "2c0af121",
   "metadata": {},
   "outputs": [],
   "source": [
    "# This function return the predicted value\n",
    "def predictSt(trained_1st_model, X_test):\n",
    "    predicted_vals = trained_1st_model.predict(X_test)\n",
    "    return predicted_vals"
   ]
  },
  {
   "cell_type": "code",
   "execution_count": 7,
   "id": "9f83be30",
   "metadata": {},
   "outputs": [
    {
     "name": "stdout",
     "output_type": "stream",
     "text": [
      "X and y:\n",
      "\n",
      "       Years  Length (KM)  Width (KM)  Country  Latitude  Longtitude  Deaths\n",
      "0       2022        3.235       0.091        0   40.3790    -75.2266       0\n",
      "1       2022        0.209       0.046        1   38.9196    -77.2259       0\n",
      "2       2022        0.080       0.027        1   38.8653    -77.4579       0\n",
      "3       2022       14.709       0.457        0   41.1600    -76.7300       1\n",
      "4       2022        0.354       0.091        2   35.8672    -78.8372       0\n",
      "...      ...          ...         ...      ...       ...         ...     ...\n",
      "14785   2010        1.271       0.137       10   31.5095    -93.9232       0\n",
      "14786   2010        0.257       0.023        6   30.8150    -92.0455       0\n",
      "14787   2010        7.435       0.023       29   33.7160   -118.1250       0\n",
      "14788   2010        0.225       0.009       29   34.4248   -119.8770       0\n",
      "14789   2010        0.853       0.014       29   36.7300   -119.8600       0\n",
      "\n",
      "[14790 rows x 7 columns] 0        1\n",
      "1        0\n",
      "2        0\n",
      "3        1\n",
      "4        1\n",
      "        ..\n",
      "14785    1\n",
      "14786    0\n",
      "14787    1\n",
      "14788    0\n",
      "14789    0\n",
      "Name: Scale (EF), Length: 14790, dtype: int64\n",
      "\n",
      "\n",
      "       Years  Length (KM)  Width (KM)  Country  Latitude  Longtitude  Deaths\n",
      "7356    2016       14.001       0.732       12   36.2358    -95.8153       0\n",
      "4161    2018        2.414       0.206       24   42.2289    -84.4358       0\n",
      "9658    2014        0.740       0.274        5   32.9338    -89.3203       0\n",
      "13045   2011        3.911       0.091       11   34.6206    -92.9800       0\n",
      "12281   2011        0.869       0.023       41   41.2342    -98.1168       0\n",
      "...      ...          ...         ...      ...       ...         ...     ...\n",
      "10517   2013       24.140       1.097       12   35.7300    -97.1410       0\n",
      "7985    2015        3.879       0.229       24   43.2542    -83.7432       0\n",
      "2303    2020        4.989       0.320       16   40.0305    -84.2271       0\n",
      "3392    2019        4.651       0.069        0   39.9039    -77.8474       0\n",
      "14148   2010        0.901       0.046        9   41.0734    -87.7410       0\n",
      "\n",
      "[10353 rows x 7 columns]        Years  Length (KM)  Width (KM)  Country  Latitude  Longtitude  Deaths\n",
      "3124    2019        3.042       0.018       10   34.0250   -100.3733       0\n",
      "8655    2015        0.177       0.046       10   28.4269    -96.8994       0\n",
      "2241    2020       23.818       0.091        8   36.0811    -88.5287       0\n",
      "11755   2012        6.968       0.018        6   30.7954    -93.3441       0\n",
      "5064    2017        7.033       0.274        2   36.1999    -81.4368       0\n",
      "...      ...          ...         ...      ...       ...         ...     ...\n",
      "13610   2010        1.046       0.009       14   39.1493   -101.1683       0\n",
      "12600   2011       20.197       0.320       19   44.2491    -89.9702       0\n",
      "4185    2018        1.481       0.091       19   43.6397    -88.5031       0\n",
      "10766   2013        3.573       0.274        4   34.2267    -87.1102       0\n",
      "13392   2010       10.702       0.091        4   32.5989    -86.2311       0\n",
      "\n",
      "[4437 rows x 7 columns] 7356     1\n",
      "4161     0\n",
      "9658     2\n",
      "13045    1\n",
      "12281    0\n",
      "        ..\n",
      "10517    3\n",
      "7985     0\n",
      "2303     0\n",
      "3392     2\n",
      "14148    1\n",
      "Name: Scale (EF), Length: 10353, dtype: int64 3124     0\n",
      "8655     0\n",
      "2241     2\n",
      "11755    1\n",
      "5064     1\n",
      "        ..\n",
      "13610    0\n",
      "12600    1\n",
      "4185     1\n",
      "10766    1\n",
      "13392    0\n",
      "Name: Scale (EF), Length: 4437, dtype: int64\n"
     ]
    }
   ],
   "source": [
    "target_col_name = 'Scale (EF)'\n",
    "X, y = load_dataset(df, target_col_name)\n",
    "print(\"X and y:\\n\")\n",
    "print(X, y)\n",
    "X_train, X_test, y_train, y_test = split_to_train_and_test(X, y, 0.3, 43)\n",
    "print(\"\\n\")\n",
    "print(X_train, X_test, y_train, y_test)"
   ]
  },
  {
   "cell_type": "markdown",
   "id": "b82f61f1",
   "metadata": {},
   "source": [
    "**Machine learning with use in LinearRegression**"
   ]
  },
  {
   "cell_type": "code",
   "execution_count": 8,
   "id": "2a263952",
   "metadata": {},
   "outputs": [],
   "source": [
    "# This function return the trained_model after use in LinearRegression algorithm\n",
    "def train1stModelLinearRegression(X_train, y_train):\n",
    "    predictor = LinearRegression(n_jobs=-1)\n",
    "    trained_model = predictor.fit(X_train, y_train)\n",
    "    return trained_model"
   ]
  },
  {
   "cell_type": "code",
   "execution_count": 9,
   "id": "28b3638d",
   "metadata": {},
   "outputs": [],
   "source": [
    "# This function print the accuracy \n",
    "def LinearRegressionAlgo(target_col_name,X_train, X_test, y_train, y_test):\n",
    "    trained_model = train1stModelLinearRegression(X_train, y_train)\n",
    "    pred_value = predictSt(trained_model, X_test)\n",
    "    y_pred = pd.Series(pred_value,index=X_test.index)\n",
    "    evaluate_value = r2_score(y_test, y_pred)\n",
    "    print(evaluate_value)"
   ]
  },
  {
   "cell_type": "markdown",
   "id": "a3fb3b8d",
   "metadata": {},
   "source": [
    "**The result after LinearRegression Algorithm:**"
   ]
  },
  {
   "cell_type": "code",
   "execution_count": 10,
   "id": "198899f2",
   "metadata": {},
   "outputs": [
    {
     "name": "stdout",
     "output_type": "stream",
     "text": [
      "0.4099282454405827\n"
     ]
    }
   ],
   "source": [
    "LinearRegressionAlgo(target_col_name,X_train, X_test, y_train, y_test)"
   ]
  },
  {
   "cell_type": "markdown",
   "id": "ac584be1",
   "metadata": {},
   "source": [
    "We can see that LinearRegression Algorithm gives us worst result, so I try to use in different algorithms."
   ]
  },
  {
   "cell_type": "markdown",
   "id": "df6237b2",
   "metadata": {},
   "source": [
    "**Machine learning with use in DecisionTree  Algorithm**"
   ]
  },
  {
   "cell_type": "code",
   "execution_count": 11,
   "id": "699420bb",
   "metadata": {},
   "outputs": [],
   "source": [
    "def train2stModelDecisionTreeClassifier(X_train, y_train):\n",
    "    predictor = DecisionTreeClassifier(max_depth =4)\n",
    "    trained_model = predictor.fit(X_train, y_train)\n",
    "    return trained_model"
   ]
  },
  {
   "cell_type": "code",
   "execution_count": 12,
   "id": "e285491b",
   "metadata": {},
   "outputs": [],
   "source": [
    "def DecisionTreeClassifierAlgo(target_col_name,X_train, X_test, y_train, y_test):\n",
    "    trained_model = train2stModelDecisionTreeClassifier(X_train, y_train)\n",
    "    pred_value = predictSt(trained_model, X_test)\n",
    "    y_pred = pd.Series(pred_value,index=X_test.index)\n",
    "    evaluate_value = accuracy_score(y_test, y_pred)\n",
    "    print(evaluate_value)"
   ]
  },
  {
   "cell_type": "markdown",
   "id": "f449dcbd",
   "metadata": {},
   "source": [
    "**The result after DecisionTree Algorithm:**"
   ]
  },
  {
   "cell_type": "code",
   "execution_count": 13,
   "id": "6401fc59",
   "metadata": {},
   "outputs": [
    {
     "name": "stdout",
     "output_type": "stream",
     "text": [
      "0.664412891593419\n"
     ]
    }
   ],
   "source": [
    "DecisionTreeClassifierAlgo(target_col_name,X_train, X_test, y_train, y_test)"
   ]
  },
  {
   "cell_type": "markdown",
   "id": "9b26fb30",
   "metadata": {},
   "source": [
    "**Machine learning with use in KNeighborsClassifier Algorithm**"
   ]
  },
  {
   "cell_type": "code",
   "execution_count": 14,
   "id": "0bae5a63",
   "metadata": {},
   "outputs": [],
   "source": [
    "def train3stModelKNeighborsClassifier(X_train, y_train):\n",
    "    predictor = KNeighborsClassifier(n_neighbors = 15)\n",
    "    trained_model = predictor.fit(X_train, y_train)\n",
    "    return trained_model"
   ]
  },
  {
   "cell_type": "code",
   "execution_count": 15,
   "id": "3101a940",
   "metadata": {},
   "outputs": [],
   "source": [
    "def KNeighborsClassifierAlgo(target_col_name,X_train, X_test, y_train, y_test):\n",
    "    trained_model = train3stModelKNeighborsClassifier(X_train, y_train)\n",
    "    pred_value = predictSt(trained_model, X_test)\n",
    "    y_pred = pd.Series(pred_value,index=X_test.index)\n",
    "    evaluate_value = accuracy_score(y_test, y_pred)\n",
    "    print(evaluate_value)"
   ]
  },
  {
   "cell_type": "markdown",
   "id": "55254916",
   "metadata": {},
   "source": [
    "**The result after KNN Algorithm:**"
   ]
  },
  {
   "cell_type": "code",
   "execution_count": 16,
   "id": "6f940a8b",
   "metadata": {},
   "outputs": [
    {
     "name": "stdout",
     "output_type": "stream",
     "text": [
      "0.6294793779580797\n"
     ]
    }
   ],
   "source": [
    "KNeighborsClassifierAlgo(target_col_name,X_train, X_test, y_train, y_test)"
   ]
  },
  {
   "cell_type": "markdown",
   "id": "f053071a",
   "metadata": {},
   "source": [
    "**Machine learning with use in RandomForest Algorithm**"
   ]
  },
  {
   "cell_type": "code",
   "execution_count": 17,
   "id": "bd4f8f70",
   "metadata": {},
   "outputs": [],
   "source": [
    "def train4stModelRandomForestClassifier(X_train, y_train):\n",
    "    predictor = RandomForestClassifier(n_estimators=51)\n",
    "    trained_model = predictor.fit(X_train, y_train)\n",
    "    return trained_model"
   ]
  },
  {
   "cell_type": "code",
   "execution_count": 18,
   "id": "f486ee5b",
   "metadata": {},
   "outputs": [],
   "source": [
    "def RandomForestClassifierAlgo(target_col_name,X_train, X_test, y_train, y_test):\n",
    "    trained_model = train4stModelRandomForestClassifier(X_train, y_train)\n",
    "    pred_value = predictSt(trained_model, X_test)\n",
    "    y_pred = pd.Series(pred_value,index=X_test.index)\n",
    "    evaluate_value = accuracy_score(y_test, y_pred)\n",
    "    print(evaluate_value)"
   ]
  },
  {
   "cell_type": "markdown",
   "id": "72c91f06",
   "metadata": {},
   "source": [
    "**The result after RandomForest Algorithm:**"
   ]
  },
  {
   "cell_type": "code",
   "execution_count": 19,
   "id": "93b9d75c",
   "metadata": {},
   "outputs": [
    {
     "name": "stdout",
     "output_type": "stream",
     "text": [
      "0.6864998873112463\n"
     ]
    }
   ],
   "source": [
    "RandomForestClassifierAlgo(target_col_name,X_train, X_test, y_train, y_test)"
   ]
  },
  {
   "cell_type": "markdown",
   "id": "8236de41",
   "metadata": {},
   "source": [
    "So, We can see that RandomForest Algorithm gives us the best accuracy with 69% success"
   ]
  }
 ],
 "metadata": {
  "kernelspec": {
   "display_name": "Python 3 (ipykernel)",
   "language": "python",
   "name": "python3"
  },
  "language_info": {
   "codemirror_mode": {
    "name": "ipython",
    "version": 3
   },
   "file_extension": ".py",
   "mimetype": "text/x-python",
   "name": "python",
   "nbconvert_exporter": "python",
   "pygments_lexer": "ipython3",
   "version": "3.9.12"
  }
 },
 "nbformat": 4,
 "nbformat_minor": 5
}
